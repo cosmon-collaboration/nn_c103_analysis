{
 "cells": [
  {
   "cell_type": "code",
   "execution_count": null,
   "id": "bf224704-5ec3-4370-801c-06df9bdb2114",
   "metadata": {
    "tags": []
   },
   "outputs": [],
   "source": [
    "import sys\n",
    "import numpy as np\n",
    "import h5py as h5\n",
    "from itertools import permutations\n",
    "import itertools\n",
    "import collections\n",
    "import hashlib\n",
    "from numpy.random import Generator, SeedSequence, PCG64\n",
    "import matplotlib.pyplot as plt\n",
    "import scipy.constants as const"
   ]
  },
  {
   "cell_type": "markdown",
   "id": "5826020e",
   "metadata": {},
   "source": [
    "User Input"
   ]
  },
  {
   "cell_type": "code",
   "execution_count": 11,
   "id": "41c6ad31",
   "metadata": {
    "tags": []
   },
   "outputs": [],
   "source": [
    "# chose whether to fit spin singlet (pp_SING) or triplet (pn_TRIP) data\n",
    "# the deutron is in the TRIP channel\n",
    "#c_name  = 'pp_SING'\n",
    "c_name  = 'pn_TRIP'\n",
    "Nbs     = 1000\n",
    "bs_seed = 'c103'\n",
    "NL      = 48\n",
    "M_N     = 0.70279 # determined in our correlator fits\n",
    "HBARC   = const.hbar * const.c / const.e * 1e15 / 1e6\n",
    "a_fm    = 0.08636 # see table 3 of https://arxiv.org/abs/1608.08900\n",
    "scale   = HBARC / a_fm"
   ]
  },
  {
   "cell_type": "markdown",
   "id": "5f79d218",
   "metadata": {},
   "source": [
    "Bootstrap Utilities"
   ]
  },
  {
   "cell_type": "code",
   "execution_count": 19,
   "id": "650b0987",
   "metadata": {
    "tags": []
   },
   "outputs": [],
   "source": [
    "def get_rng(seed: str, verbose=False):\n",
    "    \"\"\"Generate a random number generator based on a seed string.\"\"\"\n",
    "    # Over python iteration the traditional hash was changed. So, here we fix it to md5\n",
    "    hash = hashlib.md5(seed.encode(\"utf-8\")).hexdigest()  # Convert string to a hash\n",
    "    seed_int = int(hash, 16) % (10 ** 6)  # Convert hash to an fixed size integer\n",
    "    if verbose:\n",
    "        print(\"Seed to md5 hash:\", seed, \"->\", hash, \"->\", seed_int)\n",
    "    # Create instance of random number generator explicitly to ensure long time support\n",
    "    # PCG64 -> https://www.pcg-random.org/\n",
    "    # see https://numpy.org/doc/stable/reference/random/generated/numpy.random.seed.html\n",
    "    rng = Generator(PCG64(SeedSequence(seed_int)))\n",
    "    return rng\n",
    "\n",
    "def make_bs_list(Ndata, Nbs, Mbs=None, seed=None, verbose=False):\n",
    "    if Mbs:\n",
    "        m_bs = Mbs\n",
    "    else:\n",
    "        m_bs = Ndata\n",
    "\n",
    "    # seed the random number generator\n",
    "    rng = get_rng(seed,verbose=verbose) if seed else np.random.default_rng()\n",
    "\n",
    "    # make BS list: [low, high)\n",
    "    bs_list = rng.integers(low=0, high=Ndata, size=[Nbs, m_bs])\n",
    "\n",
    "    return bs_list\n",
    "\n",
    "def make_bs_corr(corr, Nbs, Mbs=None, seed=None, verbose=False):\n",
    "    Ndata = corr.shape[0]\n",
    "    bs_list = make_bs_list(Ndata, Nbs, Mbs=Mbs, seed=seed, verbose=verbose)\n",
    "    #print(bs_list[0,0:5])\n",
    "    corr_bs = []\n",
    "    corr_bs.append(corr.mean(axis=0))\n",
    "    for bs in range(len(bs_list)):\n",
    "        corr_bs.append(corr[bs_list[bs]].mean(axis=0))\n",
    "    return np.array(corr_bs)"
   ]
  },
  {
   "cell_type": "code",
   "execution_count": null,
   "id": "6e2d75e4-e5d5-4d34-8ade-c8637cb6be6b",
   "metadata": {
    "tags": []
   },
   "outputs": [
    {
     "name": "stdout",
     "output_type": "stream",
     "text": [
      "(99, 32, 48, 48, 48)\n"
     ]
    }
   ],
   "source": [
    "# load the NN data.  The NEG PAR data has already been time-reversed so can be directly \n",
    "# averaged with the POS PAR data\n",
    "with h5.File('c103_nn_%s_hal_nblock_15.h5' %(c_name),'r') as f5:\n",
    "    nn_data = 0.5 * f5[c_name][()][:,:,:,:,:,0]\n",
    "with h5.File('c103_nn_%s_NEG_PAR_hal_nblock_15.h5' %(c_name),'r') as f5:\n",
    "    nn_data += 0.5 * f5['%s_NEG_PAR' %(c_name)][()][:,:,:,:,:,0]\n",
    "print(nn_data.shape)"
   ]
  },
  {
   "cell_type": "code",
   "execution_count": null,
   "id": "4b9c58b9-8a8f-4378-a5dc-8eadc6233182",
   "metadata": {
    "tags": []
   },
   "outputs": [
    {
     "name": "stdout",
     "output_type": "stream",
     "text": [
      "(99, 32)\n"
     ]
    }
   ],
   "source": [
    "# load the single nucleon data\n",
    "with h5.File('c103_n_nblock_15.h5','r') as f5:\n",
    "    prot = f5['proton'][()][:,:,0]\n",
    "print(prot.shape)"
   ]
  },
  {
   "cell_type": "code",
   "execution_count": null,
   "id": "83b6dde3-33ad-49f3-814c-dedaf26dd5bf",
   "metadata": {
    "tags": []
   },
   "outputs": [],
   "source": [
    "def A1_project_corr(corr):\n",
    "    ''' perform symmetry transformations on data that respect A1g symmetry\n",
    "        shape of corr:\n",
    "            [Ncfg, Nt, PZ, PY, PX]\n",
    "\n",
    "        first, perform all momentum flip transformations that preserve only\n",
    "        even \"parity\" modes.  The data in momentum space is stored (in units of 2pi/L) as\n",
    "            [0, 1, 2, ..., L/2-1, L/2, -L/2+1, ..., -2, -1]\n",
    "        and therefore\n",
    "            np.roll(corr,-1,2)[:,:,::-1,:,:] changes NN(p_z) -> NN(-p_z)\n",
    "            np.roll([p0, p1, p2, ..., pL/2-1, pL/2, -pL/2+1, ..., -p2, -p1], -1) \n",
    "                -> [p1, p2, ..., pL/2-1, pL/2, -pL/2+1, ..., -p2, -p1, p0]\n",
    "\n",
    "        Therefore, applying the np.roll(corr, -1,axis=i) and then flipping the direction, ::-1, leads to\n",
    "            [p0,  p1,  p2, ...,  pL/2-1, pL/2, -pL/2+1, ..., -p2, -p1]\n",
    "           +[p0, -p1, -p2, ..., -pL/2+1, pL/2,  pL/2-1, ...,  p2,  p1]\n",
    "    '''\n",
    "    wave_tmp1 = (corr[:,:,:,:,:] \n",
    "                 + np.roll(corr,-1,2)[:,:,::-1,:,:]\n",
    "                 + np.roll(corr,-1,3)[:,:,:,::-1,:]\n",
    "                 + np.roll(corr,-1,4)[:,:,:,:,::-1]\n",
    "                 + np.roll(np.roll(corr,-1,2),-1,3)[:,:,::-1,::-1,:]\n",
    "                 + np.roll(np.roll(corr,-1,3),-1,4)[:,:,:,::-1,::-1]\n",
    "                 + np.roll(np.roll(corr,-1,4),-1,2)[:,:,::-1,:,::-1]\n",
    "                 + np.roll(np.roll(np.roll(corr,-1,2),-1,3),-1,4)[:,:,::-1,::-1,::-1]\n",
    "                )/8.0\n",
    "    ''' second, perform all axis-swap transformations that respect the A1 symmetry\n",
    "    '''\n",
    "    wave_tmp2 = (wave_tmp1 \n",
    "                 + np.swapaxes(wave_tmp1,2,3)\n",
    "                 + np.swapaxes(wave_tmp1,3,4)\n",
    "                 + np.swapaxes(wave_tmp1,4,2)\n",
    "                 + np.swapaxes(np.swapaxes(wave_tmp1,2,3),3,4)\n",
    "                 + np.swapaxes(np.swapaxes(wave_tmp1,2,4),4,3)\n",
    "                )/6.0\n",
    "    return wave_tmp2"
   ]
  },
  {
   "cell_type": "code",
   "execution_count": 23,
   "id": "15ea1bda-d350-46d4-b933-1fcf18b4d376",
   "metadata": {
    "tags": []
   },
   "outputs": [
    {
     "name": "stdout",
     "output_type": "stream",
     "text": [
      "(99, 32, 48, 48, 48)\n"
     ]
    }
   ],
   "source": [
    "# A1 project in momentum space, then FFT to XYZ space\n",
    "nn_data_A1 = np.fft.fftn(A1_project_corr(nn_data), axes=(2,3,4))\n",
    "\n",
    "# clear memory\n",
    "del nn_data\n",
    "print(nn_data_A1.shape)"
   ]
  },
  {
   "cell_type": "markdown",
   "id": "0f615624-042d-4a4a-83f9-a86c0a6f969b",
   "metadata": {
    "collapsed": true,
    "jupyter": {
     "outputs_hidden": true
    },
    "tags": []
   },
   "source": [
    "The HAL QCD potential is given by\n",
    "\\begin{equation}\n",
    "V(r) = \\frac{1}{M_n} \\frac{\\nabla^2 R}{R} - \\frac{(\\partial/\\partial t)R}{R}\n",
    "+ \\frac{1}{4M_n} \\frac{(\\partial^2/\\partial t^2) R}{R}\\, ,\n",
    "\\end{equation}\n",
    "where\n",
    "\\begin{equation}\n",
    "R(t,r) = \\frac{C_{NN}(t,r)}{N(t)^2}\\, .\n",
    "\\end{equation}\n",
    "As the denominator does not have any dependence upon $r$, we can apply the Laplacian to the two-nucleon correlation function, prior to forming the ratio correlator."
   ]
  },
  {
   "cell_type": "code",
   "execution_count": null,
   "id": "971eb974-2359-462a-9ba5-a17163af0bd8",
   "metadata": {
    "tags": []
   },
   "outputs": [],
   "source": [
    "def get_inequivalent_directions( Ns):\n",
    "    ''' collect all inequivalent choices under A1_projection\n",
    "        Ns = number of max sites in any one direction\n",
    "\n",
    "        if Ns is 3, then we will collect tuples in out: a length paired with a 3-vec\n",
    "            (0,       (0,0,0)), \n",
    "            (1,       (0,0,1)), \n",
    "            (sqrt( 2),(0,1,1)), \n",
    "            (sqrt( 3),(1,1,1)), \n",
    "            (2,       (0,0,2)), \n",
    "            (sqrt( 5),(0,1,2)), \n",
    "            (sqrt( 6),(1,1,2)), \n",
    "            (sqrt( 8),(0,2,2)),\n",
    "            (3,       (1,2,2)), \n",
    "            (sqrt(12),(2,2,2))\n",
    "        The vectors are constrained to z <= y <= x < Nx.\n",
    "        note, this treats vectors of different length but different elements of A1 as different\n",
    "        eg. (0,0,3) and (1,2,2)\n",
    "    '''\n",
    "    out = []\n",
    "    for x0 in range( Ns):\n",
    "        for y0 in range( x0+1):\n",
    "            for z0 in range( y0+1):\n",
    "                vec = np.array([ z0, y0, x0])\n",
    "                out.append(( np.linalg.norm( vec), tuple( vec)))\n",
    "    dir_norm, dir_vec = tuple( zip( *sorted( out)))            ## sort by norm first, then vector\n",
    "    dir_vec_idx = tuple( np.array( x) for x in zip( *dir_vec)) ## reformat so they can be used as a slice\n",
    "    return dir_norm, dir_vec_idx\n",
    "\n",
    "# This function is unused in this notebook\n",
    "def get_equivalent_directions( Ns):\n",
    "    ## get a set of directions that are equivalent to each other under A1_projection\n",
    "    dir_norm, dir_vec_idx = get_inequivalent_directions( Ns)\n",
    "    dir_vec = list( zip( *dir_vec_idx)) ## restore to 3vectors\n",
    "    ## create equivalent choices\n",
    "    dvec_perm = tuple(\n",
    "        (dnorm, dvec, tuple( np.array( x) for x in zip( *tuple( permutations_and_signs( dvec)))))\n",
    "        for dnorm, dvec in zip( dir_norm, dir_vec) )\n",
    "    return tuple( zip( *dvec_perm))    \n",
    "\n",
    "# This function is unused in this notebook\n",
    "def permutations_and_signs( dvec):\n",
    "    ## from a given vector, find all choices that are equivalent under A1_projection\n",
    "    # Actually, what this does is take a 3-vec and apply all parity\n",
    "    # and direction exchanges to it.    \n",
    "    # What it does not do is remove duplicates.   For example, if dvec=(1,1,1),\n",
    "    # then parity has an effect, but exchanges do not, so we generate 6*8k entries\n",
    "    out = []\n",
    "    for x0s in [-1,1]:\n",
    "        for x1s in [-1,1]:\n",
    "            for x2s in [-1,1]:\n",
    "                svec = np.array([x0s,x1s,x2s])\n",
    "                out.extend([ svec *dperm for dperm in permutations( dvec) ])\n",
    "    return out\n"
   ]
  },
  {
   "cell_type": "code",
   "execution_count": null,
   "id": "55cf2858-8b4f-4058-8449-b6ba92d172c5",
   "metadata": {
    "tags": []
   },
   "outputs": [],
   "source": [
    "def laplacian(c_nn, type='single-axis-improved'):\n",
    "    # c_nn[cfg, t, x, y, z]\n",
    "    if type=='7 point laplacian':\n",
    "        nabla_nn  = -6.0 * c_nn\n",
    "        nabla_nn += np.roll(c_nn, -1, 2)  # (array,dist,whichdim)\n",
    "        nabla_nn += np.roll(c_nn, +1, 2)\n",
    "        nabla_nn += np.roll(c_nn, -1, 3)\n",
    "        nabla_nn += np.roll(c_nn, +1, 3)\n",
    "        nabla_nn += np.roll(c_nn, -1, 4)\n",
    "        nabla_nn += np.roll(c_nn, +1, 4)\n",
    "\n",
    "    elif type=='single-axis-improved':\n",
    "        nabla_nn  = -7.5 * c_nn\n",
    "        nabla_nn += np.roll(c_nn, -1, 2)*4/3\n",
    "        nabla_nn += np.roll(c_nn, +1, 2)*4/3\n",
    "        nabla_nn += np.roll(c_nn, -1, 3)*4/3\n",
    "        nabla_nn += np.roll(c_nn, +1, 3)*4/3\n",
    "        nabla_nn += np.roll(c_nn, -1, 4)*4/3\n",
    "        nabla_nn += np.roll(c_nn, +1, 4)*4/3\n",
    "        nabla_nn -= np.roll(c_nn, -2, 2)*1/12\n",
    "        nabla_nn -= np.roll(c_nn, +2, 2)*1/12\n",
    "        nabla_nn -= np.roll(c_nn, -2, 3)*1/12\n",
    "        nabla_nn -= np.roll(c_nn, +2, 3)*1/12\n",
    "        nabla_nn -= np.roll(c_nn, -2, 4)*1/12\n",
    "        nabla_nn -= np.roll(c_nn, +2, 4)*1/12\n",
    "    # we could implement the 27-point stencil that takes\n",
    "    # contributions along diagonals\n",
    "    #    np.roll(np.roll(c_nn,-1,2), -1, 3)\n",
    "    # which have better rotational symmetry.\n",
    "    # However, we found no significant difference between the simple 7-point\n",
    "    # and the single-axis-improved, so we stopped there\n",
    "    else:\n",
    "        print('your laplacian type is not implemented')\n",
    "        sys.exit()\n",
    "\n",
    "    return nabla_nn"
   ]
  },
  {
   "cell_type": "code",
   "execution_count": 12,
   "id": "9ea58479-ff7a-4823-a6ce-dd40f6a7d291",
   "metadata": {
    "tags": []
   },
   "outputs": [
    {
     "name": "stdout",
     "output_type": "stream",
     "text": [
      "1493 24.020824298928627\n"
     ]
    }
   ],
   "source": [
    "# NL = 48 is the number of sites in each direction\n",
    "r_norm, r_vec = get_inequivalent_directions(NL)\n",
    "# cut off our radius at NL/2\n",
    "r_stop = next(i for i,v in enumerate(r_norm) if v > NL//2)\n",
    "print(r_stop, r_norm[r_stop])"
   ]
  },
  {
   "cell_type": "code",
   "execution_count": 27,
   "id": "2e719f50-dd2f-46fb-806d-9696d7557954",
   "metadata": {},
   "outputs": [
    {
     "name": "stdout",
     "output_type": "stream",
     "text": [
      "400\n"
     ]
    }
   ],
   "source": [
    "duplicate_r = [item for item, count in collections.Counter(r_norm[:r_stop+1]).items() if count > 1]\n",
    "print(len(duplicate_r))"
   ]
  },
  {
   "cell_type": "code",
   "execution_count": 28,
   "id": "20e53a48",
   "metadata": {
    "tags": []
   },
   "outputs": [
    {
     "name": "stdout",
     "output_type": "stream",
     "text": [
      "(99, 32, 19600)\n"
     ]
    }
   ],
   "source": [
    "laplacian_nn = laplacian(nn_data_A1)  # computed for all time slices\n",
    "tmp_NN  = np.zeros([nn_data_A1.shape[0], nn_data_A1.shape[1], len(r_norm)])\n",
    "tmp_lap = np.zeros([nn_data_A1.shape[0], nn_data_A1.shape[1], len(r_norm)])\n",
    "# nn_data_A1[cfg, ti, xi, yi, zi]\n",
    "for c in range(nn_data_A1.shape[0]): # configurations\n",
    "    for t in range(nn_data_A1.shape[1]):\n",
    "        # tables indexed by the r_vec index (r_vec is a table of inequiv 3-vecs)\n",
    "        tmp_NN[c,t]  = nn_data_A1[c,t][r_vec].real\n",
    "        tmp_lap[c,t] = laplacian_nn[c,t][r_vec].real\n",
    "print(tmp_NN.shape)\n",
    "\n",
    "# clear memory\n",
    "del laplacian_nn"
   ]
  },
  {
   "cell_type": "code",
   "execution_count": null,
   "id": "528027e5-501c-4da1-9571-fda3d26d31a2",
   "metadata": {},
   "outputs": [
    {
     "name": "stdout",
     "output_type": "stream",
     "text": [
      "483\n",
      "(99, 32, 483)\n"
     ]
    }
   ],
   "source": [
    "# map data to function of \"r\"\n",
    "# We've projected to A1, which means averaging over all\n",
    "# direction swaps and parity transforms.   Therefore all octants\n",
    "# should match and we can pick distance r values from our list.\n",
    "# There can be multiple vectors with the same r. \n",
    "r_unique = []\n",
    "NN_unique = []\n",
    "lap_NN_unique = []\n",
    "for i_r,r in enumerate(r_norm[:r_stop+1]):  # 3-vec index and length\n",
    "    if r not in r_unique:\n",
    "        r_unique.append(r)  \n",
    "        # duplicate_r is a list of r values that appear more than once in our list\n",
    "        if r not in duplicate_r:\n",
    "            NN_unique.append(tmp_NN[:,:,i_r])\n",
    "            lap_NN_unique.append(tmp_lap[:,:,i_r])\n",
    "        else:\n",
    "            ''' This performs a equal weight average of vectors of the same length\n",
    "                but that do not transform into each other under A1g\n",
    "                eg. (0,0,3) and (1,2,2)\n",
    "                Perhaps a weighted average should be performed counting all equivalent\n",
    "                vectors, e.g. there are \n",
    "                    -  6 equal length permutations of (0,0,n)\n",
    "                    - 12 equal length permutations of (0,n,n)\n",
    "                    - 24 equal length permutations of (0,n,m)\n",
    "                    - 24 equal length permutations of (n,m,m)\n",
    "                    - 48 equal length permutations of (n,m,p)\n",
    "                so with |n| = 3, we would have a weighted average of\n",
    "                    (6 * data[0,0,3] + 24 * data[1,2,2] ) / 30\n",
    "            '''\n",
    "            r_vals = [i for i, j in enumerate(r_norm) if j == r]\n",
    "            NN_unique.append(tmp_NN[:,:,r_vals].mean(axis=2))\n",
    "            lap_NN_unique.append(tmp_lap[:,:,r_vals].mean(axis=2))\n",
    "r_unique = np.array(r_unique)\n",
    "NN_unique = np.einsum('ijk->jki', np.array(NN_unique))\n",
    "lap_NN_unique = np.einsum('ijk->jki', np.array(lap_NN_unique))\n",
    "print(len(r_unique))\n",
    "print(NN_unique.shape)"
   ]
  },
  {
   "cell_type": "code",
   "execution_count": 30,
   "id": "a971956d",
   "metadata": {
    "tags": []
   },
   "outputs": [],
   "source": [
    "NN_bs  = make_bs_corr(NN_unique,     Nbs, seed=bs_seed)\n",
    "N_bs   = make_bs_corr(prot,          Nbs, seed=bs_seed)\n",
    "lap_bs = make_bs_corr(lap_NN_unique, Nbs, seed=bs_seed)"
   ]
  },
  {
   "cell_type": "code",
   "execution_count": null,
   "id": "4969d6ff-b407-4d8b-84ec-d028c5935cb0",
   "metadata": {
    "tags": []
   },
   "outputs": [
    {
     "name": "stdout",
     "output_type": "stream",
     "text": [
      "(1001, 32, 483)\n"
     ]
    }
   ],
   "source": [
    "# Temporal derivative \n",
    "R_bs     = NN_bs / N_bs[:,:, np.newaxis]**2\n",
    "R_bs_p1  = np.roll(R_bs, -1, axis=1)\n",
    "R_bs_m1  = np.roll(R_bs,  1, axis=1)\n",
    "R_bs_p2  = np.roll(R_bs, -2, axis=1)\n",
    "R_bs_m2  = np.roll(R_bs,  2, axis=1)\n",
    "\n",
    "V0_bs    = lap_bs / NN_bs / M_N\n",
    "V1_bs    = -(R_bs_p1 - R_bs_m1) / 2 / R_bs\n",
    "V2_bs    = (R_bs_p1 - 2.0*R_bs + R_bs_m1) / R_bs /(4.0*M_N)\n",
    "V3_bs    = (R_bs_p2 - R_bs_m2) / R_bs \n",
    "V4_bs    = ((4/3)*(R_bs_p1 + R_bs_m1)-(1/12)*(R_bs_p2+R_bs_m2)-(15/6)*R_bs) / R_bs /(4.0*M_N)\n",
    "\n",
    "# leading order\n",
    "#V_HAL_bs = V0_bs + V1_bs + V2_bs\n",
    "\n",
    "# improved temporal derivative\n",
    "V_HAL_bs = V0_bs + (4/3)* V1_bs + V4_bs + (1/12)*V3_bs\n",
    "print(V_HAL_bs.shape)"
   ]
  },
  {
   "cell_type": "code",
   "execution_count": 32,
   "id": "b02ec9c8",
   "metadata": {
    "tags": []
   },
   "outputs": [],
   "source": [
    "with h5.File('c103_V_hal_%s.h5' %(c_name),'w') as f5:\n",
    "    f5.create_dataset('V_hal_%s' %(c_name), data=V_HAL_bs)\n",
    "    f5.create_dataset('r_a',                data=r_unique)\n",
    "    f5.create_dataset('V0_%s' %(c_name),    data=V0_bs)\n",
    "    f5.create_dataset('Vdt_%s' %(c_name),   data=V1_bs)\n",
    "    f5.create_dataset('Vdtdt_%s' %(c_name), data=V2_bs)\n",
    "    f5.create_dataset('R_%s' %(c_name),     data=R_bs)"
   ]
  },
  {
   "cell_type": "code",
   "execution_count": 33,
   "id": "6b639cdc-f321-4ff5-ae39-d765d1a023c0",
   "metadata": {},
   "outputs": [
    {
     "data": {
      "image/png": "[encoded data removed]",
      "text/plain": [
       "<Figure size 640x480 with 1 Axes>"
      ]
     },
     "metadata": {},
     "output_type": "display_data"
    }
   ],
   "source": [
    "plt.figure()\n",
    "ax = plt.axes([.1,.1,.88,.88])\n",
    "tplt = 13\n",
    "y  = [np.mean([V_HAL_bs[c,tplt][i]/a_fm for c in range(Nbs)]) for i in range(len(r_unique))]\n",
    "dy = [np.std([V_HAL_bs[c,tplt][i] for c in range(Nbs)]) for i in range(len(r_unique))]#V_HAL_bs[1:].std(axis=0)[5]\n",
    "ax.errorbar([np.linalg.norm(i)* 0.086 for i in r_unique], y, yerr=dy, linestyle='None', marker='o', mfc='None');\n",
    "ax.set_ylim(-0.3, 0.03);"
   ]
  },
  {
   "cell_type": "code",
   "execution_count": null,
   "id": "f42e8f5f-6141-49f3-b978-ffe33bf10dc1",
   "metadata": {},
   "outputs": [],
   "source": []
  }
 ],
 "metadata": {
  "kernelspec": {
   "display_name": "analysis",
   "language": "python",
   "name": "python3"
  },
  "language_info": {
   "codemirror_mode": {
    "name": "ipython",
    "version": 3
   },
   "file_extension": ".py",
   "mimetype": "text/x-python",
   "name": "python",
   "nbconvert_exporter": "python",
   "pygments_lexer": "ipython3",
   "version": "3.11.6"
  }
 },
 "nbformat": 4,
 "nbformat_minor": 5
}
